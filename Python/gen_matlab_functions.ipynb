{
 "cells": [
  {
   "cell_type": "code",
   "execution_count": 1,
   "metadata": {},
   "outputs": [],
   "source": [
    "from opty import Problem, create_objective_function, parse_free\n",
    "import sympy as sp\n",
    "import numpy as np\n",
    "import scipy as sc\n",
    "import time as tm\n",
    "import pickle\n",
    "import sympy.physics.mechanics as me\n",
    "import sys\n",
    "sys.path.insert(0, \"..\")\n",
    "from importlib import reload\n",
    "import equations as eq\n",
    "reload (eq);\n",
    "\n",
    "data_struct = sc.io.loadmat('../data_model.mat')\n",
    "OS_model = sc.io.loadmat('../OS_model_scabduction.mat')"
   ]
  },
  {
   "cell_type": "code",
   "execution_count": null,
   "metadata": {},
   "outputs": [],
   "source": [
    "# _  = eq.create_eoms_quat(data_struct,derive = 'symbolic',gen_matlab_functions = 1)\n",
    "_ = eq.polynomials_quat(OS_model,derive = 'numeric',model_params_struct = data_struct,gen_matlab_functions = 0)"
   ]
  },
  {
   "cell_type": "code",
   "execution_count": 23,
   "metadata": {},
   "outputs": [
    {
     "name": "stdout",
     "output_type": "stream",
     "text": [
      "[-u1_clavicula(t) + Derivative(q1_clavicula(t), t), -u2_clavicula(t) + Derivative(q2_clavicula(t), t), -u1_scapula(t) + Derivative(q1_scapula(t), t), -u2_scapula(t) + Derivative(q2_scapula(t), t), -u3_scapula(t) + Derivative(q3_scapula(t), t), -u1_humerus(t) + Derivative(q1_humerus(t), t), -u2_humerus(t) + Derivative(q2_humerus(t), t), -u3_humerus(t) + Derivative(q3_humerus(t), t), u_ulna(t) - Derivative(q_ulna(t), t)]\n"
     ]
    }
   ],
   "source": [
    "reload(eq);\n",
    "_ = eq.create_eoms_eul(data_struct,derive = 'symbolic',gen_matlab_functions = 0)\n",
    "\n",
    "# _ = eq.polynomials_euler(OS_model,derive = 'symbolic',model_params_struct = data_struct,gen_matlab_functions = 1)"
   ]
  }
 ],
 "metadata": {
  "kernelspec": {
   "display_name": "opty_env",
   "language": "python",
   "name": "python3"
  },
  "language_info": {
   "codemirror_mode": {
    "name": "ipython",
    "version": 3
   },
   "file_extension": ".py",
   "mimetype": "text/x-python",
   "name": "python",
   "nbconvert_exporter": "python",
   "pygments_lexer": "ipython3",
   "version": "3.12.7"
  }
 },
 "nbformat": 4,
 "nbformat_minor": 2
}
